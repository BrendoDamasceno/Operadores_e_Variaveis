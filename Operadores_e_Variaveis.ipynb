{
  "nbformat": 4,
  "nbformat_minor": 0,
  "metadata": {
    "colab": {
      "provenance": []
    },
    "kernelspec": {
      "name": "python3",
      "display_name": "Python 3"
    },
    "language_info": {
      "name": "python"
    }
  },
  "cells": [
    {
      "cell_type": "markdown",
      "source": [],
      "metadata": {
        "id": "B0KVfxVDEOf8"
      }
    },
    {
      "cell_type": "markdown",
      "source": [
        "# **Operadores Aritimeticos**"
      ],
      "metadata": {
        "id": "-SubpArlEKix"
      }
    },
    {
      "cell_type": "code",
      "execution_count": 1,
      "metadata": {
        "colab": {
          "base_uri": "https://localhost:8080/"
        },
        "id": "4KTxsresDl-8",
        "outputId": "c7b238e1-5080-4e4e-d1dd-e62b98aac13c"
      },
      "outputs": [
        {
          "output_type": "execute_result",
          "data": {
            "text/plain": [
              "12"
            ]
          },
          "metadata": {},
          "execution_count": 1
        }
      ],
      "source": [
        "#Adição\n",
        "10 + 2"
      ]
    },
    {
      "cell_type": "code",
      "source": [
        "#Subtração\n",
        "10 - 2"
      ],
      "metadata": {
        "colab": {
          "base_uri": "https://localhost:8080/"
        },
        "id": "iVsyzTwLDqYm",
        "outputId": "10c41309-aa12-46d9-ef86-6b7315089d2d"
      },
      "execution_count": 2,
      "outputs": [
        {
          "output_type": "execute_result",
          "data": {
            "text/plain": [
              "8"
            ]
          },
          "metadata": {},
          "execution_count": 2
        }
      ]
    },
    {
      "cell_type": "code",
      "source": [
        "#Multiplicação\n",
        "10 * 2"
      ],
      "metadata": {
        "colab": {
          "base_uri": "https://localhost:8080/"
        },
        "id": "xV9qCI31Dw3s",
        "outputId": "2aaa8315-2721-47f8-e4d4-fb731c52f145"
      },
      "execution_count": 3,
      "outputs": [
        {
          "output_type": "execute_result",
          "data": {
            "text/plain": [
              "20"
            ]
          },
          "metadata": {},
          "execution_count": 3
        }
      ]
    },
    {
      "cell_type": "code",
      "source": [
        "#Divisão\n",
        "10 / 2"
      ],
      "metadata": {
        "colab": {
          "base_uri": "https://localhost:8080/"
        },
        "id": "8PRdEqlfD1uU",
        "outputId": "6d418b7b-6cf2-4974-9915-842351365135"
      },
      "execution_count": 4,
      "outputs": [
        {
          "output_type": "execute_result",
          "data": {
            "text/plain": [
              "5.0"
            ]
          },
          "metadata": {},
          "execution_count": 4
        }
      ]
    },
    {
      "cell_type": "code",
      "source": [
        "#Divisão inteiro\n",
        "10 // 2"
      ],
      "metadata": {
        "colab": {
          "base_uri": "https://localhost:8080/"
        },
        "id": "otjXWy7fD52s",
        "outputId": "9fcb2fa2-436b-454a-8cd7-7a22a5044ddd"
      },
      "execution_count": 5,
      "outputs": [
        {
          "output_type": "execute_result",
          "data": {
            "text/plain": [
              "5"
            ]
          },
          "metadata": {},
          "execution_count": 5
        }
      ]
    },
    {
      "cell_type": "code",
      "source": [
        "#Resto divisão\n",
        "10 % 2"
      ],
      "metadata": {
        "colab": {
          "base_uri": "https://localhost:8080/"
        },
        "id": "3iZSDll2D9Gl",
        "outputId": "0c5b140a-9657-4ddb-d8b5-818b5d39872c"
      },
      "execution_count": 6,
      "outputs": [
        {
          "output_type": "execute_result",
          "data": {
            "text/plain": [
              "0"
            ]
          },
          "metadata": {},
          "execution_count": 6
        }
      ]
    },
    {
      "cell_type": "code",
      "source": [
        "#Potenciação\n",
        "10 ** 2"
      ],
      "metadata": {
        "colab": {
          "base_uri": "https://localhost:8080/"
        },
        "id": "zco14uVKEDGW",
        "outputId": "eabd7679-f7e7-45cf-a29d-bc557b344e2c"
      },
      "execution_count": 7,
      "outputs": [
        {
          "output_type": "execute_result",
          "data": {
            "text/plain": [
              "100"
            ]
          },
          "metadata": {},
          "execution_count": 7
        }
      ]
    },
    {
      "cell_type": "markdown",
      "source": [
        "# **Operadores Racionais**"
      ],
      "metadata": {
        "id": "0-myamrGFMgJ"
      }
    },
    {
      "cell_type": "code",
      "source": [
        "#Menor\n",
        "10 < 2"
      ],
      "metadata": {
        "colab": {
          "base_uri": "https://localhost:8080/"
        },
        "id": "Jnsa88VNEIo-",
        "outputId": "dce81dea-6df1-45a4-c814-6abc8a644a0f"
      },
      "execution_count": 8,
      "outputs": [
        {
          "output_type": "execute_result",
          "data": {
            "text/plain": [
              "False"
            ]
          },
          "metadata": {},
          "execution_count": 8
        }
      ]
    },
    {
      "cell_type": "code",
      "source": [
        "#Menor ou Igual\n",
        "10 <= 2"
      ],
      "metadata": {
        "colab": {
          "base_uri": "https://localhost:8080/"
        },
        "id": "yKQJ7aOAFVwK",
        "outputId": "10cb66b3-3099-4a48-8411-a8917f3d2980"
      },
      "execution_count": 9,
      "outputs": [
        {
          "output_type": "execute_result",
          "data": {
            "text/plain": [
              "False"
            ]
          },
          "metadata": {},
          "execution_count": 9
        }
      ]
    },
    {
      "cell_type": "code",
      "source": [
        "#Maior\n",
        "10 > 2"
      ],
      "metadata": {
        "colab": {
          "base_uri": "https://localhost:8080/"
        },
        "id": "JoyPTJS8Fi1P",
        "outputId": "b34a59d6-fe3d-4dce-d327-3a5697fd3ec7"
      },
      "execution_count": 10,
      "outputs": [
        {
          "output_type": "execute_result",
          "data": {
            "text/plain": [
              "True"
            ]
          },
          "metadata": {},
          "execution_count": 10
        }
      ]
    },
    {
      "cell_type": "code",
      "source": [
        "#Maior ou Igual\n",
        "10 >= 2"
      ],
      "metadata": {
        "colab": {
          "base_uri": "https://localhost:8080/"
        },
        "id": "65KWhZaEFndn",
        "outputId": "1b99a021-c688-4ae6-f6bd-fdbc90d526c7"
      },
      "execution_count": 11,
      "outputs": [
        {
          "output_type": "execute_result",
          "data": {
            "text/plain": [
              "True"
            ]
          },
          "metadata": {},
          "execution_count": 11
        }
      ]
    },
    {
      "cell_type": "code",
      "source": [
        "#Igual\n",
        "7 == 7"
      ],
      "metadata": {
        "colab": {
          "base_uri": "https://localhost:8080/"
        },
        "id": "VO5TGDgAFtf3",
        "outputId": "8eeb75df-64cc-4ee1-d63c-6c69d781fe53"
      },
      "execution_count": 13,
      "outputs": [
        {
          "output_type": "execute_result",
          "data": {
            "text/plain": [
              "True"
            ]
          },
          "metadata": {},
          "execution_count": 13
        }
      ]
    },
    {
      "cell_type": "code",
      "source": [
        "#Diferente\n",
        "7 != 7"
      ],
      "metadata": {
        "colab": {
          "base_uri": "https://localhost:8080/"
        },
        "id": "0G1opmnWFyW_",
        "outputId": "1fa7e3b3-5a27-47d3-bc52-333058b49151"
      },
      "execution_count": 14,
      "outputs": [
        {
          "output_type": "execute_result",
          "data": {
            "text/plain": [
              "False"
            ]
          },
          "metadata": {},
          "execution_count": 14
        }
      ]
    },
    {
      "cell_type": "markdown",
      "source": [
        "# **Operadores Lógicos**"
      ],
      "metadata": {
        "id": "sI6q0dhTGsof"
      }
    },
    {
      "cell_type": "markdown",
      "source": [
        "\n",
        "\n",
        "*   And\n",
        "*   Or\n",
        "*   Not\n",
        "\n",
        "\n",
        "\n",
        "\n"
      ],
      "metadata": {
        "id": "F2RWwygUG1IL"
      }
    },
    {
      "cell_type": "markdown",
      "source": [
        "Tabela Verdade"
      ],
      "metadata": {
        "id": "SLqW_45jHACB"
      }
    },
    {
      "cell_type": "markdown",
      "source": [
        "And"
      ],
      "metadata": {
        "id": "F8NU0EErHDNT"
      }
    },
    {
      "cell_type": "code",
      "source": [
        "print(10 > 2 and 4 < 6)    # V and V - V\n",
        "print(10 > 2 and 4 > 6)    # V and F - F\n",
        "print(10 < 2 and 4 < 6)    # V and F - F\n",
        "print(10 < 2 and 4 > 6)    # F and F - F"
      ],
      "metadata": {
        "id": "Ybw-g3RsHEtF"
      },
      "execution_count": null,
      "outputs": []
    },
    {
      "cell_type": "markdown",
      "source": [
        "Or"
      ],
      "metadata": {
        "id": "1sop1ruBIafl"
      }
    },
    {
      "cell_type": "code",
      "source": [
        "print(10 > 2 or 4 < 6)    # V or V - V\n",
        "print(10 > 2 or 4 > 6)    # V or F - V\n",
        "print(10 < 2 or 4 < 6)    # V or F - V\n",
        "print(10 < 2 or 4 > 6)    # F or F - F"
      ],
      "metadata": {
        "id": "cPxctY7gIeIo"
      },
      "execution_count": null,
      "outputs": []
    },
    {
      "cell_type": "markdown",
      "source": [
        "Not"
      ],
      "metadata": {
        "id": "WSbk21lzJMdW"
      }
    },
    {
      "cell_type": "code",
      "source": [
        "not 10 > 2   # V - f"
      ],
      "metadata": {
        "id": "LkBm2AnFJNxA"
      },
      "execution_count": null,
      "outputs": []
    },
    {
      "cell_type": "code",
      "source": [
        "not 10 < 2   # F - V"
      ],
      "metadata": {
        "id": "TKvQ7wm3JUNi"
      },
      "execution_count": null,
      "outputs": []
    }
  ]
}